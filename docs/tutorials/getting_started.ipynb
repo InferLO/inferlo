{
 "cells": [
  {
   "cell_type": "markdown",
   "metadata": {},
   "source": [
    "# Getting started with InferLO\n",
    "\n",
    "In this Notebook we will review basic concepts, show how to define graphical models in InferLO, how to solve different tasks (inference, maximum likelihood and sampling) for that model. Also we will review different kinds of models (generic, pairwise and Normal Factor Graph), and show how you can use different algorithms to solve the same problem."
   ]
  },
  {
   "cell_type": "code",
   "execution_count": 1,
   "metadata": {},
   "outputs": [],
   "source": [
    "# Don't run this cell.\n",
    "%load_ext autoreload\n",
    "%autoreload 2\n",
    "import sys \n",
    "sys.path.append('../..')"
   ]
  },
  {
   "cell_type": "code",
   "execution_count": 3,
   "metadata": {},
   "outputs": [],
   "source": [
    "import inferlo\n",
    "import numpy as np\n",
    "from matplotlib import pyplot as plt"
   ]
  },
  {
   "cell_type": "markdown",
   "metadata": {},
   "source": [
    "## Introduction\n",
    "\n",
    "Essentially graphical model is a way to represent a probabilistic distribution over variables. This distribution is usually defined by non-normalized probability dnsity function, represented as a product of factors, each factor being a function of small number of variables. Then we can define a graph describing structure of those factors (there are multiple ways to do so).\n",
    "\n",
    "In InferLO you define a model in terms of two basic building blocks: `Variable`s and `Factor`s. First we review how you can do it by defining them explicilty."
   ]
  },
  {
   "cell_type": "markdown",
   "metadata": {},
   "source": [
    "## Defining a model\n",
    "\n",
    "Let's start by defining a generic graphical model, which is explicitly defined by (non-normalized) probability density function. Let's say we have 4 variables $x_0, x_1, x_2, x_3$ which can take any value, and we want to represent probability distribution\n",
    "\n",
    "\n",
    "$$p(x) \\sim e^{x_1 \\cdot x_2} \\cdot |x_2+x_3| \\cdot \\cos(x3-x4)^2.$$\n",
    "\n",
    "For this we will use `GenericGraphModel`. First, we should initialize the model with number of variables. Then, we will add factors add by one. \n",
    "\n",
    "In this case we will use `FunctionFactor`, which defines factor explicilty by indices of variables on which it depends and a function. To define such a factor we need three things: a model, indices of variables and a function. Function should take a list of values (its length must match number of variables this factor depends on) and evaluate value of this factor for given values of variables."
   ]
  },
  {
   "cell_type": "code",
   "execution_count": null,
   "metadata": {
    "scrolled": true
   },
   "outputs": [],
   "source": [
    "model = inferlo.GenericGraphModel(4)\n",
    "model.add_factor(inferlo.FunctionFactor(model, [0, 1], lambda x: np.exp(x[0] * x[1])))\n",
    "model.add_factor(inferlo.FunctionFactor(model, [1, 2], lambda x: np.abs(x[0] + x[1])))\n",
    "model.add_factor(inferlo.FunctionFactor(model, [2, 3], lambda x: np.cos(x[0] - x[1])**2))"
   ]
  },
  {
   "cell_type": "markdown",
   "metadata": {},
   "source": [
    "Now, we can evaluate value of the whole product at any point:"
   ]
  },
  {
   "cell_type": "code",
   "execution_count": null,
   "metadata": {},
   "outputs": [],
   "source": [
    "model.evaluate([1,2,3,4])"
   ]
  },
  {
   "cell_type": "markdown",
   "metadata": {},
   "source": [
    "We can define the same model in more succint way, using symbolic expressions. Note that `*=` is just shortcut for `add_factor` and expression on the right creates a `FunctionFactor`."
   ]
  },
  {
   "cell_type": "code",
   "execution_count": null,
   "metadata": {},
   "outputs": [],
   "source": [
    "model = inferlo.GenericGraphModel(4)\n",
    "x0, x1, x2, x3 = model.get_symbolic_variables()\n",
    "model *= np.exp(x0*x1)\n",
    "model *= abs(x1+x2)\n",
    "model *= np.cos(x2-x3)**2\n",
    "model.evaluate([1,2,3,4])"
   ]
  },
  {
   "cell_type": "markdown",
   "metadata": {},
   "source": [
    "## Variable domains\n",
    "\n",
    "In example above variables could take any real value. In practice it's useful to have variables with limited domain. You can specify domain for every individual variable in the model. Note that `model[i]` accesses `i`-th variable:"
   ]
  },
  {
   "cell_type": "code",
   "execution_count": null,
   "metadata": {},
   "outputs": [],
   "source": [
    "model = inferlo.GenericGraphModel(4)\n",
    "model[0].domain = inferlo.RealDomain()\n",
    "model[1].domain = inferlo.DiscreteDomain([10, 100, 1000])\n",
    "model[2].domain = inferlo.DiscreteDomain.binary()\n",
    "model[3].domain = inferlo.DiscreteDomain.range(5)\n",
    "\n",
    "print([var.domain for var in model.get_variables()])"
   ]
  },
  {
   "cell_type": "markdown",
   "metadata": {},
   "source": [
    "In this example $x_0 \\in \\mathbb{R}, x_1 \\in \\{10, 100, 1000\\}, x_2 \\in \\{0, 1\\} , x_3 \\in \\{0, 1,2,3,4,5\\}$. \n",
    "\n",
    "By default domains of all variables are real. If you want to change domains of some variables, please do so first thing after you created the model. \n",
    "\n",
    "If you want all variables to have the same (default) domain, you can specify this domain when creating a model.\n",
    "In example below all variables are binary, except last one, which can take values 0,1 or 2."
   ]
  },
  {
   "cell_type": "code",
   "execution_count": null,
   "metadata": {},
   "outputs": [],
   "source": [
    "model = inferlo.GenericGraphModel(5, domain=inferlo.DiscreteDomain.binary())\n",
    "model[4].domain = inferlo.DiscreteDomain.range(3)\n",
    "print([var.domain for var in model.get_variables()])"
   ]
  },
  {
   "cell_type": "markdown",
   "metadata": {},
   "source": [
    "## Factors\n",
    "\n",
    "In example above we used `FunctionFactor`, which is defined explicilty by a function, and it can be any function. There are other ways to represent factors.\n",
    "\n",
    "If all variables, on which the fcator depends, are discrete, number of possible combinations of variable values is finite, so you can tabulate the function and represnt it by this table (which will be a multidimensional array). You can do this in InferLO by using a `DiscreteFactor`."
   ]
  },
  {
   "cell_type": "code",
   "execution_count": null,
   "metadata": {},
   "outputs": [],
   "source": [
    "model = inferlo.GenericGraphModel(2, domain=inferlo.DiscreteDomain.binary())\n",
    "factor = inferlo.DiscreteFactor(model, [0, 1], [[0, 1], [2, 3]])\n",
    "factor.value([1, 0])"
   ]
  },
  {
   "cell_type": "markdown",
   "metadata": {},
   "source": [
    "Above we described a function $f(x_0, x_1)$ such that $f(0,0)=0, f(0,1)=1, f(1,0)=2, f(1,1)=3$."
   ]
  },
  {
   "cell_type": "markdown",
   "metadata": {},
   "source": [
    "You can define a function explicilty (using `FunctionFactor`) and then convert it do `DiscreteFactor`, obtaining explict table of function values:"
   ]
  },
  {
   "cell_type": "code",
   "execution_count": null,
   "metadata": {},
   "outputs": [],
   "source": [
    "model = inferlo.GenericGraphModel(3, domain=inferlo.DiscreteDomain.binary())\n",
    "model[2].domain = inferlo.DiscreteDomain([2, 3, 4])\n",
    "x0, x1, x2 = model.get_symbolic_variables()\n",
    "function_factor = 100 * x0 + 10 * x1 + x2\n",
    "discrete_factor = inferlo.DiscreteFactor.from_factor(function_factor)\n",
    "discrete_factor.values"
   ]
  },
  {
   "cell_type": "markdown",
   "metadata": {},
   "source": [
    "## Pairwise models"
   ]
  },
  {
   "cell_type": "markdown",
   "metadata": {},
   "source": [
    "Generic model can express any distribution, but it's too abstract. InferLO defines classes for more concrete models, which may be subjects to some additional constraints, but allow for efficient algorithms to solve certain problems.\n",
    "\n",
    "First such example is Pairwise Finite model --- model where every factor depends on at most 2 variables, and where variables come from the same discrete domain. Famous partial cases of this kind of model are Potts model and Ising model.\n",
    "\n"
   ]
  },
  {
   "cell_type": "markdown",
   "metadata": {},
   "source": [
    "## Normal Factor Graph models.\n",
    "\n",
    "If every variable appears in exactly two factors, we can build a Normal Factor Graph - a graph where edges correspond to variables, and vertices correspond to factors. We we will call such models Normal Factor Graph (NFG) models. Also they are known ad Edge-Variable or Forney-style models.\n",
    "\n",
    "Not any model can be represented in such a way, but every model can be converted to NFG model (conversion may add new variables and factors)."
   ]
  },
  {
   "cell_type": "markdown",
   "metadata": {},
   "source": [
    "## Conversion from factor graph to Forney-style edge-variable graph and back"
   ]
  },
  {
   "cell_type": "code",
   "execution_count": null,
   "metadata": {},
   "outputs": [],
   "source": [
    "model1 = inferlo.GenericGraphModel(num_variables = 5)\n",
    "x1, x2, x3, x4, x5 = inferlo.FunctionFactor.prepare_variables(model1)\n",
    "model1 *= np.exp(x1*x2)\n",
    "model1 *= np.exp(x1*x3*x4)\n",
    "model1 *= np.exp(x2*x3*x4)\n",
    "model1 *= np.exp(x2*x3*x5)\n",
    "\n",
    "for i in range(len(model1.factors)):\n",
    "    model1.factors[i].name = 'f%d' % i\n",
    "    \n",
    "fig = plt.figure(figsize=(30, 10))\n",
    "model1.draw_factor_graph(fig.add_subplot(1, 3, 1)) \n",
    "\n",
    "\n",
    "model2 = inferlo.NormalFactorGraphModel.from_model(model1) \n",
    "model2.draw_edge_variable_graph(fig.add_subplot(1, 3, 2))\n",
    "model2.draw_factor_graph(fig.add_subplot(1, 3, 3))\n",
    "\n",
    "ax = fig.get_axes()\n",
    "ax[0].set_title('Initial factor graph')\n",
    "ax[1].set_title('Equivalent Forney-style graph')\n",
    "ax[2].set_title('Factor graph for converted model')\n",
    "plt.show()"
   ]
  },
  {
   "cell_type": "markdown",
   "metadata": {},
   "source": [
    "## Conversion from pairwise to factor-graph and Forney-style"
   ]
  },
  {
   "cell_type": "code",
   "execution_count": null,
   "metadata": {},
   "outputs": [],
   "source": [
    "field = np.zeros((4, 2))\n",
    "edges = [[0, 1], [0, 2], [0, 3]]\n",
    "j1 = np.array([[0, 0], [0, 1]])\n",
    "interactions = [j1, j1, j1]\n",
    "model1 = inferlo.PairWiseFiniteModel.create(field, edges, interactions)\n",
    "\n",
    "fig = plt.figure(figsize=(30, 10))\n",
    "model1.draw_pairwise_graph(fig.add_subplot(1, 3, 1))\n",
    "\n",
    "model1.draw_factor_graph(fig.add_subplot(1, 3, 2))\n",
    "\n",
    "model2 = inferlo.NormalFactorGraphModel.from_model(model1) \n",
    "model2.draw_edge_variable_graph(fig.add_subplot(1, 3, 3))\n",
    "\n",
    "ax = fig.get_axes()\n",
    "ax[0].set_title('Pairwise graph')\n",
    "ax[1].set_title('Factor graph')\n",
    "ax[2].set_title('Edge-varable graph')\n",
    "plt.show()"
   ]
  },
  {
   "cell_type": "markdown",
   "metadata": {},
   "source": [
    "## Inference / optimization."
   ]
  },
  {
   "cell_type": "code",
   "execution_count": null,
   "metadata": {},
   "outputs": [],
   "source": [
    "model = inferlo.PairWiseFiniteModel(5, 3)\n",
    "x = inferlo.FunctionFactor.prepare_variables(model)\n",
    "model *= np.exp(3*x[0]*x[1])\n",
    "model *= np.exp(4*x[1]*x[2])\n",
    "model *= np.exp(-2*x[2]*x[3])\n",
    "model *= np.exp(-6*x[2]*x[4])\n",
    "model *= np.exp(x[3]*x[0])\n",
    "model.draw_pairwise_graph(plt)\n",
    "\n",
    "# Also can explictly set interactions as 3x3 matrices.\n",
    "\n",
    "model.infer(algorithm='message_passing')\n",
    "model.max_likelihood()"
   ]
  }
 ],
 "metadata": {
  "kernelspec": {
   "display_name": "Python 3",
   "language": "python",
   "name": "python3"
  },
  "language_info": {
   "codemirror_mode": {
    "name": "ipython",
    "version": 3
   },
   "file_extension": ".py",
   "mimetype": "text/x-python",
   "name": "python",
   "nbconvert_exporter": "python",
   "pygments_lexer": "ipython3",
   "version": "3.7.5"
  }
 },
 "nbformat": 4,
 "nbformat_minor": 2
}
